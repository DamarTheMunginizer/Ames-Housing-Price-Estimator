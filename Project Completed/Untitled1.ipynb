{
 "cells": [
  {
   "cell_type": "code",
   "execution_count": 1,
   "id": "4f478cd8-a013-458f-9a7b-b96bcd0f0a24",
   "metadata": {},
   "outputs": [],
   "source": [
    "# Imports\n",
    "import pandas as pd\n",
    "import numpy as np\n",
    "import matplotlib.pyplot as plt\n",
    "import seaborn as sns    \n",
    "\n",
    "from sklearn.linear_model import LinearRegression\n",
    "from sklearn.model_selection import train_test_split\n",
    "from sklearn.dummy import DummyRegressor\n",
    "from sklearn.metrics import r2_score, mean_squared_error, mean_absolute_error\n",
    "from sklearn.impute import SimpleImputer\n",
    "from sklearn.preprocessing import OneHotEncoder\n",
    "from sklearn.compose import ColumnTransformer\n",
    "\n",
    "import statsmodels.api as sm"
   ]
  },
  {
   "cell_type": "code",
   "execution_count": 2,
   "id": "67753bf7-4951-4833-8f35-3f71ad0595c2",
   "metadata": {},
   "outputs": [],
   "source": [
    "train = pd.read_csv('datasets/train.csv')\n",
    "test = pd.read_csv('datasets/test.csv')"
   ]
  },
  {
   "cell_type": "code",
   "execution_count": 3,
   "id": "539ba0d2-391e-4737-abd9-cb7ae17a8553",
   "metadata": {},
   "outputs": [],
   "source": [
    "test = test.copy()"
   ]
  },
  {
   "cell_type": "code",
   "execution_count": 4,
   "id": "667bfb4e-bc83-49cc-9484-2620f4e6f5af",
   "metadata": {},
   "outputs": [],
   "source": [
    "test['SalePrice'] = train['SalePrice'].mean()"
   ]
  },
  {
   "cell_type": "code",
   "execution_count": 5,
   "id": "439b6dee-ad6b-4f99-b7b3-3a4f2cbe28bf",
   "metadata": {},
   "outputs": [
    {
     "data": {
      "text/plain": [
       "0      181469.701609\n",
       "1      181469.701609\n",
       "2      181469.701609\n",
       "3      181469.701609\n",
       "4      181469.701609\n",
       "           ...      \n",
       "873    181469.701609\n",
       "874    181469.701609\n",
       "875    181469.701609\n",
       "876    181469.701609\n",
       "877    181469.701609\n",
       "Name: SalePrice, Length: 878, dtype: float64"
      ]
     },
     "execution_count": 5,
     "metadata": {},
     "output_type": "execute_result"
    }
   ],
   "source": [
    "test['SalePrice']"
   ]
  },
  {
   "cell_type": "code",
   "execution_count": 7,
   "id": "c7a0eb77-f5c0-418f-85ae-2a185525a495",
   "metadata": {},
   "outputs": [],
   "source": [
    "test.columns = train.columns.str.replace(' ', '_').str.lower()"
   ]
  },
  {
   "cell_type": "code",
   "execution_count": 18,
   "id": "997f0ac2-3af8-4f5a-b0b4-d42b7dd3bfe2",
   "metadata": {},
   "outputs": [
    {
     "data": {
      "text/plain": [
       "0      OldTown\n",
       "1       Sawyer\n",
       "2      Gilbert\n",
       "3      OldTown\n",
       "4        NAmes\n",
       "        ...   \n",
       "873     NWAmes\n",
       "874      NAmes\n",
       "875     Sawyer\n",
       "876      NAmes\n",
       "877      NAmes\n",
       "Name: neighborhood, Length: 878, dtype: object"
      ]
     },
     "execution_count": 18,
     "metadata": {},
     "output_type": "execute_result"
    }
   ],
   "source": [
    "test['neighborhood']"
   ]
  },
  {
   "cell_type": "code",
   "execution_count": 20,
   "id": "2e9e7e70-1497-436c-abb6-55fb9952f6a3",
   "metadata": {},
   "outputs": [
    {
     "data": {
      "text/plain": [
       "<bound method DataFrame.info of        id        pid  ms_subclass ms_zoning  lot_frontage  lot_area street  \\\n",
       "0    2658  902301120          190        RM          69.0      9142   Pave   \n",
       "1    2718  905108090           90        RL           NaN      9662   Pave   \n",
       "2    2414  528218130           60        RL          58.0     17104   Pave   \n",
       "3    1989  902207150           30        RM          60.0      8520   Pave   \n",
       "4     625  535105100           20        RL           NaN      9500   Pave   \n",
       "..    ...        ...          ...       ...           ...       ...    ...   \n",
       "873  1662  527377110           60        RL          80.0      8000   Pave   \n",
       "874  1234  535126140           60        RL          90.0     14670   Pave   \n",
       "875  1373  904100040           20        RL          55.0      8250   Pave   \n",
       "876  1672  527425140           20        RL          60.0      9000   Pave   \n",
       "877  1939  535327160           20        RL          70.0      8400   Pave   \n",
       "\n",
       "    alley lot_shape land_contour  ... screen_porch pool_area pool_qc  fence  \\\n",
       "0    Grvl       Reg          Lvl  ...            0         0     NaN    NaN   \n",
       "1     NaN       IR1          Lvl  ...            0         0     NaN    NaN   \n",
       "2     NaN       IR1          Lvl  ...            0         0     NaN    NaN   \n",
       "3     NaN       Reg          Lvl  ...            0         0     NaN    NaN   \n",
       "4     NaN       IR1          Lvl  ...          185         0     NaN    NaN   \n",
       "..    ...       ...          ...  ...          ...       ...     ...    ...   \n",
       "873   NaN       Reg          Lvl  ...            0         0     NaN    NaN   \n",
       "874   NaN       Reg          Lvl  ...            0         0     NaN  MnPrv   \n",
       "875   NaN       Reg          Lvl  ...            0         0     NaN    NaN   \n",
       "876   NaN       Reg          Lvl  ...            0         0     NaN   GdWo   \n",
       "877   NaN       Reg          Lvl  ...            0         0     NaN   GdWo   \n",
       "\n",
       "    misc_feature misc_val mo_sold yr_sold  sale_type      saleprice  \n",
       "0            NaN        0       4    2006        WD   181469.701609  \n",
       "1            NaN        0       8    2006        WD   181469.701609  \n",
       "2            NaN        0       9    2006        New  181469.701609  \n",
       "3            NaN        0       7    2007        WD   181469.701609  \n",
       "4            NaN        0       7    2009        WD   181469.701609  \n",
       "..           ...      ...     ...     ...        ...            ...  \n",
       "873          NaN        0      11    2007        WD   181469.701609  \n",
       "874          NaN        0       8    2008        WD   181469.701609  \n",
       "875          NaN        0       8    2008        WD   181469.701609  \n",
       "876          NaN        0       5    2007        WD   181469.701609  \n",
       "877          NaN        0       3    2007        WD   181469.701609  \n",
       "\n",
       "[878 rows x 81 columns]>"
      ]
     },
     "execution_count": 20,
     "metadata": {},
     "output_type": "execute_result"
    }
   ],
   "source": [
    "test.info"
   ]
  },
  {
   "cell_type": "code",
   "execution_count": 19,
   "id": "b3bfe31c-e25e-400f-8538-1d30d98361c8",
   "metadata": {},
   "outputs": [
    {
     "ename": "KeyError",
     "evalue": "('garage_area', '2nd_flr_sf', 'bsmt_unf_sf', 'year_remod/add', 'year_built', 'overall_qual', 'full_bath', 'garage_cars')",
     "output_type": "error",
     "traceback": [
      "\u001b[0;31m---------------------------------------------------------------------------\u001b[0m",
      "\u001b[0;31mKeyError\u001b[0m                                  Traceback (most recent call last)",
      "File \u001b[0;32m~/opt/anaconda3/lib/python3.12/site-packages/pandas/core/indexes/base.py:3805\u001b[0m, in \u001b[0;36mIndex.get_loc\u001b[0;34m(self, key)\u001b[0m\n\u001b[1;32m   3804\u001b[0m \u001b[38;5;28;01mtry\u001b[39;00m:\n\u001b[0;32m-> 3805\u001b[0m     \u001b[38;5;28;01mreturn\u001b[39;00m \u001b[38;5;28mself\u001b[39m\u001b[38;5;241m.\u001b[39m_engine\u001b[38;5;241m.\u001b[39mget_loc(casted_key)\n\u001b[1;32m   3806\u001b[0m \u001b[38;5;28;01mexcept\u001b[39;00m \u001b[38;5;167;01mKeyError\u001b[39;00m \u001b[38;5;28;01mas\u001b[39;00m err:\n",
      "File \u001b[0;32mindex.pyx:167\u001b[0m, in \u001b[0;36mpandas._libs.index.IndexEngine.get_loc\u001b[0;34m()\u001b[0m\n",
      "File \u001b[0;32mindex.pyx:196\u001b[0m, in \u001b[0;36mpandas._libs.index.IndexEngine.get_loc\u001b[0;34m()\u001b[0m\n",
      "File \u001b[0;32mpandas/_libs/hashtable_class_helper.pxi:7081\u001b[0m, in \u001b[0;36mpandas._libs.hashtable.PyObjectHashTable.get_item\u001b[0;34m()\u001b[0m\n",
      "File \u001b[0;32mpandas/_libs/hashtable_class_helper.pxi:7089\u001b[0m, in \u001b[0;36mpandas._libs.hashtable.PyObjectHashTable.get_item\u001b[0;34m()\u001b[0m\n",
      "\u001b[0;31mKeyError\u001b[0m: ('garage_area', '2nd_flr_sf', 'bsmt_unf_sf', 'year_remod/add', 'year_built', 'overall_qual', 'full_bath', 'garage_cars')",
      "\nThe above exception was the direct cause of the following exception:\n",
      "\u001b[0;31mKeyError\u001b[0m                                  Traceback (most recent call last)",
      "Cell \u001b[0;32mIn[19], line 1\u001b[0m\n\u001b[0;32m----> 1\u001b[0m test[\u001b[38;5;124m'\u001b[39m\u001b[38;5;124mgarage_area\u001b[39m\u001b[38;5;124m'\u001b[39m, \u001b[38;5;124m'\u001b[39m\u001b[38;5;124m2nd_flr_sf\u001b[39m\u001b[38;5;124m'\u001b[39m, \u001b[38;5;124m'\u001b[39m\u001b[38;5;124mbsmt_unf_sf\u001b[39m\u001b[38;5;124m'\u001b[39m, \u001b[38;5;124m'\u001b[39m\u001b[38;5;124myear_remod/add\u001b[39m\u001b[38;5;124m'\u001b[39m, \u001b[38;5;124m'\u001b[39m\u001b[38;5;124myear_built\u001b[39m\u001b[38;5;124m'\u001b[39m, \u001b[38;5;124m'\u001b[39m\u001b[38;5;124moverall_qual\u001b[39m\u001b[38;5;124m'\u001b[39m, \u001b[38;5;124m'\u001b[39m\u001b[38;5;124mfull_bath\u001b[39m\u001b[38;5;124m'\u001b[39m, \u001b[38;5;124m'\u001b[39m\u001b[38;5;124mgarage_cars\u001b[39m\u001b[38;5;124m'\u001b[39m]\n",
      "File \u001b[0;32m~/opt/anaconda3/lib/python3.12/site-packages/pandas/core/frame.py:4102\u001b[0m, in \u001b[0;36mDataFrame.__getitem__\u001b[0;34m(self, key)\u001b[0m\n\u001b[1;32m   4100\u001b[0m \u001b[38;5;28;01mif\u001b[39;00m \u001b[38;5;28mself\u001b[39m\u001b[38;5;241m.\u001b[39mcolumns\u001b[38;5;241m.\u001b[39mnlevels \u001b[38;5;241m>\u001b[39m \u001b[38;5;241m1\u001b[39m:\n\u001b[1;32m   4101\u001b[0m     \u001b[38;5;28;01mreturn\u001b[39;00m \u001b[38;5;28mself\u001b[39m\u001b[38;5;241m.\u001b[39m_getitem_multilevel(key)\n\u001b[0;32m-> 4102\u001b[0m indexer \u001b[38;5;241m=\u001b[39m \u001b[38;5;28mself\u001b[39m\u001b[38;5;241m.\u001b[39mcolumns\u001b[38;5;241m.\u001b[39mget_loc(key)\n\u001b[1;32m   4103\u001b[0m \u001b[38;5;28;01mif\u001b[39;00m is_integer(indexer):\n\u001b[1;32m   4104\u001b[0m     indexer \u001b[38;5;241m=\u001b[39m [indexer]\n",
      "File \u001b[0;32m~/opt/anaconda3/lib/python3.12/site-packages/pandas/core/indexes/base.py:3812\u001b[0m, in \u001b[0;36mIndex.get_loc\u001b[0;34m(self, key)\u001b[0m\n\u001b[1;32m   3807\u001b[0m     \u001b[38;5;28;01mif\u001b[39;00m \u001b[38;5;28misinstance\u001b[39m(casted_key, \u001b[38;5;28mslice\u001b[39m) \u001b[38;5;129;01mor\u001b[39;00m (\n\u001b[1;32m   3808\u001b[0m         \u001b[38;5;28misinstance\u001b[39m(casted_key, abc\u001b[38;5;241m.\u001b[39mIterable)\n\u001b[1;32m   3809\u001b[0m         \u001b[38;5;129;01mand\u001b[39;00m \u001b[38;5;28many\u001b[39m(\u001b[38;5;28misinstance\u001b[39m(x, \u001b[38;5;28mslice\u001b[39m) \u001b[38;5;28;01mfor\u001b[39;00m x \u001b[38;5;129;01min\u001b[39;00m casted_key)\n\u001b[1;32m   3810\u001b[0m     ):\n\u001b[1;32m   3811\u001b[0m         \u001b[38;5;28;01mraise\u001b[39;00m InvalidIndexError(key)\n\u001b[0;32m-> 3812\u001b[0m     \u001b[38;5;28;01mraise\u001b[39;00m \u001b[38;5;167;01mKeyError\u001b[39;00m(key) \u001b[38;5;28;01mfrom\u001b[39;00m \u001b[38;5;21;01merr\u001b[39;00m\n\u001b[1;32m   3813\u001b[0m \u001b[38;5;28;01mexcept\u001b[39;00m \u001b[38;5;167;01mTypeError\u001b[39;00m:\n\u001b[1;32m   3814\u001b[0m     \u001b[38;5;66;03m# If we have a listlike key, _check_indexing_error will raise\u001b[39;00m\n\u001b[1;32m   3815\u001b[0m     \u001b[38;5;66;03m#  InvalidIndexError. Otherwise we fall through and re-raise\u001b[39;00m\n\u001b[1;32m   3816\u001b[0m     \u001b[38;5;66;03m#  the TypeError.\u001b[39;00m\n\u001b[1;32m   3817\u001b[0m     \u001b[38;5;28mself\u001b[39m\u001b[38;5;241m.\u001b[39m_check_indexing_error(key)\n",
      "\u001b[0;31mKeyError\u001b[0m: ('garage_area', '2nd_flr_sf', 'bsmt_unf_sf', 'year_remod/add', 'year_built', 'overall_qual', 'full_bath', 'garage_cars')"
     ]
    }
   ],
   "source": [
    "test['garage_area', '2nd_flr_sf', 'bsmt_unf_sf', 'year_remod/add', 'year_built', 'overall_qual', 'full_bath', 'garage_cars']"
   ]
  },
  {
   "cell_type": "code",
   "execution_count": null,
   "id": "5dca0f98-a3b3-402a-bba7-51e190a9d2a8",
   "metadata": {},
   "outputs": [],
   "source": []
  }
 ],
 "metadata": {
  "kernelspec": {
   "display_name": "Python 3 (ipykernel)",
   "language": "python",
   "name": "python3"
  },
  "language_info": {
   "codemirror_mode": {
    "name": "ipython",
    "version": 3
   },
   "file_extension": ".py",
   "mimetype": "text/x-python",
   "name": "python",
   "nbconvert_exporter": "python",
   "pygments_lexer": "ipython3",
   "version": "3.12.4"
  }
 },
 "nbformat": 4,
 "nbformat_minor": 5
}
